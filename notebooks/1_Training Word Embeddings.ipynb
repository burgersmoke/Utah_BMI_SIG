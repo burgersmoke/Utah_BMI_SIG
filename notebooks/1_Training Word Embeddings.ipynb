{
 "cells": [
  {
   "cell_type": "markdown",
   "metadata": {},
   "source": [
    "# Requirements for this notebook:\n",
    "1. Internet connection (to download corpora and tokenizer data with calls to nltk.download())\n",
    "2. The following packages:\n",
    "  1. nltk (Anaconda or PIP command line install : pip install -U nltk OR conda install nltk)\n",
    "  2. gensim (pip install -U gensim)\n",
    "  3. scikit-learn v0.18.1 (pip install -U scikit-learn)\n",
    "  4. matplotlib (pip install -U matplotlib)\n",
    "  5. numpy (pip install -U numpy)"
   ]
  },
  {
   "cell_type": "markdown",
   "metadata": {},
   "source": [
    "# Objectives of this notebook are to illustrate how we can do the following with word embeddings:\n",
    "1. Train from scratch\n",
    "2. Explore embeddings vectors\n",
    "3. Use these for an NLP task"
   ]
  },
  {
   "cell_type": "code",
   "execution_count": 1,
   "metadata": {
    "collapsed": true
   },
   "outputs": [],
   "source": [
    "import time"
   ]
  },
  {
   "cell_type": "markdown",
   "metadata": {},
   "source": [
    "# NLTK page : http://www.nltk.org/"
   ]
  },
  {
   "cell_type": "code",
   "execution_count": 2,
   "metadata": {},
   "outputs": [
    {
     "data": {
      "text/plain": [
       "'3.2.3'"
      ]
     },
     "execution_count": 2,
     "metadata": {},
     "output_type": "execute_result"
    }
   ],
   "source": [
    "import nltk\n",
    "nltk.__version__"
   ]
  },
  {
   "cell_type": "markdown",
   "metadata": {},
   "source": [
    "# Gensim page : https://radimrehurek.com/gensim/index.html"
   ]
  },
  {
   "cell_type": "code",
   "execution_count": 3,
   "metadata": {},
   "outputs": [
    {
     "name": "stderr",
     "output_type": "stream",
     "text": [
      "c:\\anaconda3\\lib\\site-packages\\gensim\\utils.py:860: UserWarning: detected Windows; aliasing chunkize to chunkize_serial\n",
      "  warnings.warn(\"detected Windows; aliasing chunkize to chunkize_serial\")\n"
     ]
    },
    {
     "data": {
      "text/plain": [
       "'3.2.0'"
      ]
     },
     "execution_count": 3,
     "metadata": {},
     "output_type": "execute_result"
    }
   ],
   "source": [
    "import gensim\n",
    "gensim.__version__"
   ]
  },
  {
   "cell_type": "markdown",
   "metadata": {},
   "source": [
    "# Scikit-learn page : http://scikit-learn.org/stable/"
   ]
  },
  {
   "cell_type": "code",
   "execution_count": 4,
   "metadata": {},
   "outputs": [
    {
     "data": {
      "text/plain": [
       "'0.19.1'"
      ]
     },
     "execution_count": 4,
     "metadata": {},
     "output_type": "execute_result"
    }
   ],
   "source": [
    "import sklearn\n",
    "from sklearn.manifold import TSNE\n",
    "sklearn.__version__"
   ]
  },
  {
   "cell_type": "code",
   "execution_count": 5,
   "metadata": {},
   "outputs": [
    {
     "data": {
      "text/plain": [
       "'1.14.0'"
      ]
     },
     "execution_count": 5,
     "metadata": {},
     "output_type": "execute_result"
    }
   ],
   "source": [
    "import numpy as np\n",
    "np.__version__"
   ]
  },
  {
   "cell_type": "code",
   "execution_count": 6,
   "metadata": {
    "collapsed": true
   },
   "outputs": [],
   "source": [
    "import matplotlib.pyplot as plt"
   ]
  },
  {
   "cell_type": "code",
   "execution_count": 7,
   "metadata": {
    "collapsed": true
   },
   "outputs": [],
   "source": [
    "%matplotlib inline"
   ]
  },
  {
   "cell_type": "code",
   "execution_count": 8,
   "metadata": {
    "collapsed": true
   },
   "outputs": [],
   "source": [
    "from gensim.models import Word2Vec\n",
    "from gensim.models import Doc2Vec\n",
    "from gensim.models.doc2vec import LabeledSentence"
   ]
  },
  {
   "cell_type": "code",
   "execution_count": 9,
   "metadata": {},
   "outputs": [
    {
     "name": "stdout",
     "output_type": "stream",
     "text": [
      "[nltk_data] Downloading package brown to\n",
      "[nltk_data]     C:\\Users\\u0061995\\AppData\\Roaming\\nltk_data...\n",
      "[nltk_data]   Package brown is already up-to-date!\n",
      "Wall time: 1.45 s\n"
     ]
    },
    {
     "data": {
      "text/plain": [
       "True"
      ]
     },
     "execution_count": 9,
     "metadata": {},
     "output_type": "execute_result"
    }
   ],
   "source": [
    "%time nltk.download('brown')"
   ]
  },
  {
   "cell_type": "code",
   "execution_count": 10,
   "metadata": {},
   "outputs": [
    {
     "name": "stdout",
     "output_type": "stream",
     "text": [
      "[nltk_data] Downloading package movie_reviews to\n",
      "[nltk_data]     C:\\Users\\u0061995\\AppData\\Roaming\\nltk_data...\n",
      "[nltk_data]   Package movie_reviews is already up-to-date!\n",
      "Wall time: 377 ms\n"
     ]
    },
    {
     "data": {
      "text/plain": [
       "True"
      ]
     },
     "execution_count": 10,
     "metadata": {},
     "output_type": "execute_result"
    }
   ],
   "source": [
    "%time nltk.download('movie_reviews')"
   ]
  },
  {
   "cell_type": "code",
   "execution_count": 11,
   "metadata": {},
   "outputs": [
    {
     "name": "stdout",
     "output_type": "stream",
     "text": [
      "[nltk_data] Downloading package treebank to\n",
      "[nltk_data]     C:\\Users\\u0061995\\AppData\\Roaming\\nltk_data...\n",
      "[nltk_data]   Unzipping corpora\\treebank.zip.\n",
      "Wall time: 5.48 s\n"
     ]
    },
    {
     "data": {
      "text/plain": [
       "True"
      ]
     },
     "execution_count": 11,
     "metadata": {},
     "output_type": "execute_result"
    }
   ],
   "source": [
    "%time nltk.download('treebank')"
   ]
  },
  {
   "cell_type": "code",
   "execution_count": 12,
   "metadata": {},
   "outputs": [
    {
     "name": "stdout",
     "output_type": "stream",
     "text": [
      "[nltk_data] Downloading package punkt to\n",
      "[nltk_data]     C:\\Users\\u0061995\\AppData\\Roaming\\nltk_data...\n",
      "[nltk_data]   Package punkt is already up-to-date!\n",
      "Wall time: 58.7 ms\n"
     ]
    },
    {
     "data": {
      "text/plain": [
       "True"
      ]
     },
     "execution_count": 12,
     "metadata": {},
     "output_type": "execute_result"
    }
   ],
   "source": [
    "# Let's download the PUNKT tokenizer first so that we can use tokenize words and sentences\n",
    "%time nltk.download('punkt')"
   ]
  },
  {
   "cell_type": "code",
   "execution_count": 13,
   "metadata": {},
   "outputs": [
    {
     "name": "stdout",
     "output_type": "stream",
     "text": [
      "[nltk_data] Downloading package stopwords to\n",
      "[nltk_data]     C:\\Users\\u0061995\\AppData\\Roaming\\nltk_data...\n",
      "[nltk_data]   Package stopwords is already up-to-date!\n",
      "Wall time: 13 ms\n"
     ]
    },
    {
     "data": {
      "text/plain": [
       "True"
      ]
     },
     "execution_count": 13,
     "metadata": {},
     "output_type": "execute_result"
    }
   ],
   "source": [
    "# Let's download stopwords so we can plot them later\n",
    "%time nltk.download('stopwords')"
   ]
  },
  {
   "cell_type": "code",
   "execution_count": 14,
   "metadata": {
    "collapsed": true
   },
   "outputs": [],
   "source": [
    "from nltk.corpus import brown\n",
    "from nltk.corpus import movie_reviews\n",
    "from nltk.corpus import treebank"
   ]
  },
  {
   "cell_type": "code",
   "execution_count": null,
   "metadata": {},
   "outputs": [],
   "source": []
  },
  {
   "cell_type": "code",
   "execution_count": 15,
   "metadata": {
    "scrolled": true
   },
   "outputs": [
    {
     "name": "stdout",
     "output_type": "stream",
     "text": [
      "['The', 'Fulton', 'County', 'Grand', 'Jury', 'said', 'Friday', 'an', 'investigation', 'of', \"Atlanta's\", 'recent', 'primary', 'election', 'produced', '``', 'no', 'evidence', \"''\", 'that', 'any', 'irregularities', 'took', 'place', '.']\n",
      "['plot', ':', 'two', 'teen', 'couples', 'go', 'to', 'a', 'church', 'party', ',', 'drink', 'and', 'then', 'drive', '.']\n",
      "['Pierre', 'Vinken', ',', '61', 'years', 'old', ',', 'will', 'join', 'the', 'board', 'as', 'a', 'nonexecutive', 'director', 'Nov.', '29', '.']\n"
     ]
    }
   ],
   "source": [
    "print(brown.sents()[0])\n",
    "print(movie_reviews.sents()[0])\n",
    "print(treebank.sents()[0])"
   ]
  },
  {
   "cell_type": "markdown",
   "metadata": {},
   "source": [
    "# Pro Tip : These corpora are relatively small.  We may not get great results.  Certainly not as large as GoogleNews, Wikipedia, PubMed, etc.  Our mileage may vary"
   ]
  },
  {
   "cell_type": "code",
   "execution_count": 16,
   "metadata": {},
   "outputs": [
    {
     "name": "stdout",
     "output_type": "stream",
     "text": [
      "Brown sentence count :  57340\n",
      "Movie Review sentence count :  71532\n",
      "Treebank sentence count :  3914\n"
     ]
    }
   ],
   "source": [
    "# How many sentences do we have in each corpus?\n",
    "print('Brown sentence count : ', len(brown.sents()))\n",
    "print('Movie Review sentence count : ', len(movie_reviews.sents()))\n",
    "print('Treebank sentence count : ', len(treebank.sents()))"
   ]
  },
  {
   "cell_type": "markdown",
   "metadata": {},
   "source": [
    "# Pro Tip : Before we go on, it's good to know about the GenSim documentation for models, training, querying, etc:\n",
    "https://radimrehurek.com/gensim/models/word2vec.html"
   ]
  },
  {
   "cell_type": "code",
   "execution_count": 17,
   "metadata": {
    "collapsed": true
   },
   "outputs": [],
   "source": [
    "# Let's determine what parameters we will use for the word2vec training\n",
    "W2V_SKIP_GRAM = 0\n",
    "W2V_DIMENSIONS = 50\n",
    "W2V_MIN_COUNT = 3"
   ]
  },
  {
   "cell_type": "code",
   "execution_count": 18,
   "metadata": {
    "collapsed": true
   },
   "outputs": [],
   "source": [
    "# How many worker threads should we use to train?  Depends on your hardware...\n",
    "W2V_WORKERS = 1"
   ]
  },
  {
   "cell_type": "markdown",
   "metadata": {},
   "source": [
    "# Let's train some models..."
   ]
  },
  {
   "cell_type": "code",
   "execution_count": 19,
   "metadata": {},
   "outputs": [
    {
     "name": "stdout",
     "output_type": "stream",
     "text": [
      "Wall time: 29.9 s\n"
     ]
    }
   ],
   "source": [
    "%time brown_model = Word2Vec(brown.sents(), sg = W2V_SKIP_GRAM, size = W2V_DIMENSIONS, min_count = W2V_MIN_COUNT, workers = W2V_WORKERS)"
   ]
  },
  {
   "cell_type": "code",
   "execution_count": 20,
   "metadata": {},
   "outputs": [
    {
     "name": "stdout",
     "output_type": "stream",
     "text": [
      "Wall time: 16.7 s\n"
     ]
    }
   ],
   "source": [
    "%time movie_model = Word2Vec(movie_reviews.sents(), sg = W2V_SKIP_GRAM, size = W2V_DIMENSIONS, min_count = W2V_MIN_COUNT, workers = W2V_WORKERS)"
   ]
  },
  {
   "cell_type": "code",
   "execution_count": 21,
   "metadata": {},
   "outputs": [
    {
     "name": "stdout",
     "output_type": "stream",
     "text": [
      "Wall time: 14.3 s\n"
     ]
    }
   ],
   "source": [
    "%time treebank_model = Word2Vec(treebank.sents(), sg = W2V_SKIP_GRAM, size = W2V_DIMENSIONS, min_count = W2V_MIN_COUNT, workers = W2V_WORKERS)"
   ]
  },
  {
   "cell_type": "code",
   "execution_count": 22,
   "metadata": {},
   "outputs": [
    {
     "name": "stdout",
     "output_type": "stream",
     "text": [
      "Brown Model vocab size :  22339\n",
      "Movie Review Model vocab size :  20261\n",
      "Treebank Model vocab size :  3959\n"
     ]
    }
   ],
   "source": [
    "print('Brown Model vocab size : ', len(brown_model.wv.vocab))\n",
    "print('Movie Review Model vocab size : ', len(movie_model.wv.vocab))\n",
    "print('Treebank Model vocab size : ', len(treebank_model.wv.vocab))"
   ]
  },
  {
   "cell_type": "markdown",
   "metadata": {},
   "source": [
    "# Save / Load models"
   ]
  },
  {
   "cell_type": "code",
   "execution_count": 23,
   "metadata": {},
   "outputs": [
    {
     "name": "stdout",
     "output_type": "stream",
     "text": [
      "Saved Model to : brown_04_02_2018\n"
     ]
    }
   ],
   "source": [
    "# Before we go any further, we can save one of our models\n",
    "brown_file_name = 'brown_' + time.strftime(\"%m_%d_%Y\")\n",
    "brown_model.save(brown_file_name)\n",
    "print('Saved Model to : ' + brown_file_name)"
   ]
  },
  {
   "cell_type": "code",
   "execution_count": 24,
   "metadata": {},
   "outputs": [
    {
     "name": "stdout",
     "output_type": "stream",
     "text": [
      "Brown LOADED Model vocab size :  22339\n"
     ]
    }
   ],
   "source": [
    "# and here's how we can load a model back in...\n",
    "brown_loaded_model = Word2Vec.load(brown_file_name)\n",
    "print('Brown LOADED Model vocab size : ', len(brown_loaded_model.wv.vocab))"
   ]
  },
  {
   "cell_type": "markdown",
   "metadata": {},
   "source": [
    "# Let's start inspect our newly trained vectors"
   ]
  },
  {
   "cell_type": "code",
   "execution_count": 25,
   "metadata": {},
   "outputs": [
    {
     "name": "stdout",
     "output_type": "stream",
     "text": [
      "[ 0.52922297 -0.44393694  0.53986764  0.30898452  0.07444813  0.8072365\n",
      " -0.30248705  0.2295293  -0.3454358  -0.08358891 -0.789794    0.6219659\n",
      " -0.5510074   0.8350502   0.12058174  0.33688632 -0.9802971  -0.19038242\n",
      "  0.45694605 -0.2884458   0.04919493  0.49492317 -0.8375921   0.10152882\n",
      " -0.30892515 -0.16222703 -0.3331277  -0.07879223  0.04865659  0.22472179\n",
      "  0.3780334  -0.5179513   1.1547422  -0.54710543  0.6168508   0.38178572\n",
      " -0.55091155 -0.16953042 -1.0336933  -0.14434266 -0.01202848 -0.05747844\n",
      "  0.55513835  0.8138954   0.08261824 -0.11438676  0.04117793  0.29921743\n",
      "  0.5821988  -0.29766715]\n"
     ]
    },
    {
     "name": "stderr",
     "output_type": "stream",
     "text": [
      "c:\\anaconda3\\lib\\site-packages\\ipykernel_launcher.py:2: DeprecationWarning: Call to deprecated `__getitem__` (Method will be removed in 4.0.0, use self.wv.__getitem__() instead).\n",
      "  \n"
     ]
    }
   ],
   "source": [
    "# Now let's inspect what some of these vectors look like\n",
    "print(brown_model['business'])"
   ]
  },
  {
   "cell_type": "code",
   "execution_count": 26,
   "metadata": {},
   "outputs": [
    {
     "name": "stdout",
     "output_type": "stream",
     "text": [
      "[('film', 0.9423509240150452), ('picture', 0.8515551090240479), ('sequel', 0.7641089558601379), ('ending', 0.7359463572502136), ('case', 0.7322732210159302), ('premise', 0.7053874731063843), ('flick', 0.702265739440918), ('it', 0.6922098398208618), ('story', 0.6846057176589966), ('thing', 0.6823769211769104)]\n"
     ]
    },
    {
     "name": "stderr",
     "output_type": "stream",
     "text": [
      "c:\\anaconda3\\lib\\site-packages\\ipykernel_launcher.py:1: DeprecationWarning: Call to deprecated `most_similar` (Method will be removed in 4.0.0, use self.wv.most_similar() instead).\n",
      "  \"\"\"Entry point for launching an IPython kernel.\n"
     ]
    }
   ],
   "source": [
    "print(movie_model.most_similar(positive = ['movie'], topn = 10))"
   ]
  },
  {
   "cell_type": "code",
   "execution_count": 27,
   "metadata": {},
   "outputs": [
    {
     "name": "stdout",
     "output_type": "stream",
     "text": [
      "[('miller', 0.9380592107772827), ('platt', 0.9364315271377563), ('ian', 0.9329844117164612), ('jason', 0.9328297972679138), ('campbell', 0.9317764043807983), ('thomas', 0.9308127760887146), ('billy', 0.9304231405258179), ('edward', 0.929916262626648), ('michael', 0.9297903180122375), ('affleck', 0.9264770150184631)]\n"
     ]
    },
    {
     "name": "stderr",
     "output_type": "stream",
     "text": [
      "c:\\anaconda3\\lib\\site-packages\\ipykernel_launcher.py:1: DeprecationWarning: Call to deprecated `most_similar` (Method will be removed in 4.0.0, use self.wv.most_similar() instead).\n",
      "  \"\"\"Entry point for launching an IPython kernel.\n"
     ]
    }
   ],
   "source": [
    "print(movie_model.most_similar(positive = ['hanks'], topn = 10))"
   ]
  },
  {
   "cell_type": "code",
   "execution_count": 28,
   "metadata": {},
   "outputs": [
    {
     "name": "stdout",
     "output_type": "stream",
     "text": [
      "0.9423509768607248\n",
      "0.8976836801198914\n",
      "0.9897481707425237\n"
     ]
    },
    {
     "name": "stderr",
     "output_type": "stream",
     "text": [
      "c:\\anaconda3\\lib\\site-packages\\ipykernel_launcher.py:5: DeprecationWarning: Call to deprecated `similarity` (Method will be removed in 4.0.0, use self.wv.similarity() instead).\n",
      "  \"\"\"\n",
      "c:\\anaconda3\\lib\\site-packages\\ipykernel_launcher.py:6: DeprecationWarning: Call to deprecated `similarity` (Method will be removed in 4.0.0, use self.wv.similarity() instead).\n",
      "  \n",
      "c:\\anaconda3\\lib\\site-packages\\ipykernel_launcher.py:7: DeprecationWarning: Call to deprecated `similarity` (Method will be removed in 4.0.0, use self.wv.similarity() instead).\n",
      "  import sys\n"
     ]
    }
   ],
   "source": [
    "# Now let's see how similar certain word pairs might be\n",
    "TERM_SIMILARITY_1 = 'movie'\n",
    "TERM_SIMILARITY_2 = 'film'\n",
    "\n",
    "print(movie_model.similarity(TERM_SIMILARITY_1, TERM_SIMILARITY_2))\n",
    "print(brown_model.similarity(TERM_SIMILARITY_1, TERM_SIMILARITY_2))\n",
    "print(treebank_model.similarity(TERM_SIMILARITY_1, TERM_SIMILARITY_2))"
   ]
  },
  {
   "cell_type": "code",
   "execution_count": 29,
   "metadata": {},
   "outputs": [
    {
     "name": "stdout",
     "output_type": "stream",
     "text": [
      "0.2077721357411486\n",
      "0.5400912240079706\n",
      "0.998127801285461\n"
     ]
    },
    {
     "name": "stderr",
     "output_type": "stream",
     "text": [
      "c:\\anaconda3\\lib\\site-packages\\ipykernel_launcher.py:5: DeprecationWarning: Call to deprecated `similarity` (Method will be removed in 4.0.0, use self.wv.similarity() instead).\n",
      "  \"\"\"\n",
      "c:\\anaconda3\\lib\\site-packages\\ipykernel_launcher.py:6: DeprecationWarning: Call to deprecated `similarity` (Method will be removed in 4.0.0, use self.wv.similarity() instead).\n",
      "  \n",
      "c:\\anaconda3\\lib\\site-packages\\ipykernel_launcher.py:7: DeprecationWarning: Call to deprecated `similarity` (Method will be removed in 4.0.0, use self.wv.similarity() instead).\n",
      "  import sys\n"
     ]
    }
   ],
   "source": [
    "# Now let's try another pair\n",
    "TERM_SIMILARITY_3 = 'computer'\n",
    "TERM_SIMILARITY_4 = 'life'\n",
    "\n",
    "print(movie_model.similarity(TERM_SIMILARITY_3, TERM_SIMILARITY_4))\n",
    "print(brown_model.similarity(TERM_SIMILARITY_3, TERM_SIMILARITY_4))\n",
    "print(treebank_model.similarity(TERM_SIMILARITY_3, TERM_SIMILARITY_4))"
   ]
  },
  {
   "cell_type": "code",
   "execution_count": null,
   "metadata": {
    "collapsed": true
   },
   "outputs": [],
   "source": []
  },
  {
   "cell_type": "code",
   "execution_count": 30,
   "metadata": {},
   "outputs": [
    {
     "name": "stdout",
     "output_type": "stream",
     "text": [
      "[('south', 0.8444854021072388), ('angels', 0.8197100162506104), ('2001', 0.817813515663147), ('mir', 0.8073008060455322), ('ark', 0.806288480758667), ('releases', 0.8006539344787598), ('urban', 0.7974416613578796), ('space', 0.7949321866035461), ('states', 0.7928765416145325), ('united', 0.7916853427886963)]\n",
      "[('classes', 0.938285231590271), ('cities', 0.9360065460205078), ('various', 0.9343024492263794), ('towns', 0.9267192482948303), ('programs', 0.9250460863113403), ('roads', 0.9216160178184509), ('courses', 0.9208486080169678), ('organizations', 0.9198764562606812), ('departments', 0.9185712933540344), ('churches', 0.9169415235519409)]\n"
     ]
    },
    {
     "name": "stderr",
     "output_type": "stream",
     "text": [
      "c:\\anaconda3\\lib\\site-packages\\ipykernel_launcher.py:18: DeprecationWarning: Call to deprecated `most_similar` (Method will be removed in 4.0.0, use self.wv.most_similar() instead).\n",
      "c:\\anaconda3\\lib\\site-packages\\ipykernel_launcher.py:19: DeprecationWarning: Call to deprecated `most_similar` (Method will be removed in 4.0.0, use self.wv.most_similar() instead).\n"
     ]
    }
   ],
   "source": [
    "# Can we replicate the famous example from this paper:\n",
    "# \"King - Man + Woman ~~ Queen\"\n",
    "# http://www.aclweb.org/anthology/N13-1#page=784\n",
    "#RELATIONSHIP_WORD_1 = 'woman'\n",
    "#RELATIONSHIP_WORD_2 = 'king'\n",
    "#RELATIONSHIP_WORD_3 = 'man'\n",
    "\n",
    "# this gives what we might expect from the MOVIE corpus\n",
    "#RELATIONSHIP_WORD_1 = 'films'\n",
    "#RELATIONSHIP_WORD_2 = 'movie'\n",
    "#RELATIONSHIP_WORD_3 = 'film'\n",
    "\n",
    "# this gives what we might expect from the BROWN corpus\n",
    "RELATIONSHIP_WORD_1 = 'families'\n",
    "RELATIONSHIP_WORD_2 = 'city'\n",
    "RELATIONSHIP_WORD_3 = 'family'\n",
    "\n",
    "print(movie_model.most_similar(positive=[RELATIONSHIP_WORD_1, RELATIONSHIP_WORD_2], negative=[RELATIONSHIP_WORD_3]))\n",
    "print(brown_model.most_similar(positive=[RELATIONSHIP_WORD_1, RELATIONSHIP_WORD_2], negative=[RELATIONSHIP_WORD_3]))\n",
    "# apparently this corpus does not have one of our target words (KING)\n",
    "#treebank_model.most_similar(positive=[RELATIONSHIP_WORD_1, RELATIONSHIP_WORD_2], negative=['man'])"
   ]
  },
  {
   "cell_type": "markdown",
   "metadata": {},
   "source": [
    "# Now let's try to visualize some of the embeddings vectors with reduced dimensions (by way of t-SNE)"
   ]
  },
  {
   "cell_type": "code",
   "execution_count": 31,
   "metadata": {},
   "outputs": [
    {
     "name": "stderr",
     "output_type": "stream",
     "text": [
      "c:\\anaconda3\\lib\\site-packages\\ipykernel_launcher.py:8: DeprecationWarning: Call to deprecated `__getitem__` (Method will be removed in 4.0.0, use self.wv.__getitem__() instead).\n",
      "  \n"
     ]
    },
    {
     "data": {
      "image/png": "[encoded data removed]",
      "text/plain": [
       "<matplotlib.figure.Figure at 0x24c905d2f60>"
      ]
     },
     "metadata": {},
     "output_type": "display_data"
    }
   ],
   "source": [
    "def plot_embeddings(w2v_model, target_terms):\n",
    "    tsne = TSNE(n_components=2, random_state=0)\n",
    "    np.set_printoptions(suppress=True)\n",
    "    term_vectors = []\n",
    "    # let's make sure that a term we want is in the model\n",
    "    for target_term in target_terms:\n",
    "        if target_term in w2v_model.wv.vocab:\n",
    "            term_vectors.append(w2v_model[target_term])\n",
    "    Y = tsne.fit_transform(term_vectors)\n",
    "    \n",
    "    # let's make this plot a decent size...\n",
    "    # Get current size\n",
    "    fig_size = plt.rcParams[\"figure.figsize\"]\n",
    "    # Set figure width and height\n",
    "    fig_size[0] = 15\n",
    "    fig_size[1] = 9\n",
    "    plt.rcParams[\"figure.figsize\"] = fig_size\n",
    " \n",
    "    plt.scatter(Y[:, 0], Y[:, 1])\n",
    "    for label, x, y in zip(target_terms, Y[:, 0], Y[:, 1]):\n",
    "        plt.annotate(label, xy=(x, y), xytext=(0, 0), textcoords='offset points')\n",
    "    plt.show()\n",
    "    \n",
    "movie_vocab = [k for (k, v) in movie_model.wv.vocab.items()]\n",
    "plot_embeddings(movie_model, movie_vocab[:200])"
   ]
  },
  {
   "cell_type": "code",
   "execution_count": 32,
   "metadata": {},
   "outputs": [
    {
     "name": "stdout",
     "output_type": "stream",
     "text": [
      "{'theirs', 'weren', 'how', 'before', 'ain', \"that'll\", 'wouldn', \"wouldn't\", 'for', 'so', 'hadn', 'ours', 'very', 'he', 'to', 'when', \"hadn't\", \"shouldn't\", 'down', 'or', 'because', \"mightn't\", \"doesn't\", 'between', 'their', 'against', 'have', 'no', \"weren't\", 'if', 'who', 'most', 'about', 'nor', 'it', 'be', 'again', 'should', \"you've\", \"she's\", 'up', 'more', 'itself', \"needn't\", 'what', 'yours', 'did', 'd', 'couldn', \"couldn't\", 'at', \"don't\", 'whom', \"should've\", 'few', \"didn't\", 'both', 'she', \"haven't\", \"it's\", 'some', 'into', 'a', 'had', 'those', 'my', 'and', 'other', 'only', 'don', 'there', 'll', 'hers', 'themselves', 'under', 'shan', \"mustn't\", 'do', 'yourselves', 'off', 'but', 'while', 't', 'which', 'does', 'too', 'her', \"isn't\", 'as', 'in', 'not', 'haven', 'further', 'by', 'is', 'm', 'its', 'yourself', 'the', 'you', 'all', 'will', 'herself', 'until', 'such', 'wasn', 'am', 'are', 'your', 'these', 'once', 'own', 'below', 'y', 'over', 'here', 'myself', \"won't\", 'than', 'where', 'having', 'were', 'above', 'doing', 've', 'from', 'me', 'they', 'didn', 'after', \"you'd\", 'through', 'ourselves', 'mustn', 'on', 'isn', 'an', \"you'll\", 'now', 'why', 'can', 'him', 'of', 'his', 'just', 'hasn', 'ma', 'we', 'shouldn', 'i', 'with', 'them', 'our', 'then', 'each', 'o', \"wasn't\", 'has', \"hasn't\", 'was', 'aren', 'being', 'out', 'same', 's', 'mightn', 'this', \"shan't\", 'himself', 'been', 'during', 're', 'needn', 'that', \"you're\", \"aren't\", 'any', 'won', 'doesn'}\n"
     ]
    },
    {
     "name": "stderr",
     "output_type": "stream",
     "text": [
      "c:\\anaconda3\\lib\\site-packages\\ipykernel_launcher.py:8: DeprecationWarning: Call to deprecated `__getitem__` (Method will be removed in 4.0.0, use self.wv.__getitem__() instead).\n",
      "  \n"
     ]
    },
    {
     "data": {
      "image/png": "[encoded data removed]",
      "text/plain": [
       "<matplotlib.figure.Figure at 0x24c9559fb38>"
      ]
     },
     "metadata": {},
     "output_type": "display_data"
    }
   ],
   "source": [
    "# here are some terms we can plot...\n",
    "english_stop_words = set(nltk.corpus.stopwords.words('english'))\n",
    "print(english_stop_words)\n",
    "plot_terms = english_stop_words\n",
    "plot_embeddings(movie_model, plot_terms)"
   ]
  },
  {
   "cell_type": "markdown",
   "metadata": {},
   "source": [
    "# Now let's try to use these embeddings to do some classification.  NOTE : Taking the mean of embeddings vectors is an interesting idea, but often will not perform as well as bag of words or Doc2Vec.  We'll look at Doc2Vec later..."
   ]
  },
  {
   "cell_type": "code",
   "execution_count": 33,
   "metadata": {
    "collapsed": true
   },
   "outputs": [],
   "source": [
    "class MeanEmbeddingVectorizer(object):\n",
    "    def __init__(self, w2v_model):\n",
    "        self.w2v_model = w2v_model\n",
    "        self.vocab_size = len(w2v_model.wv.vocab)\n",
    "\n",
    "    def fit(self, X, y):\n",
    "        return self\n",
    "\n",
    "    def transform(self, X):\n",
    "        return np.array([\n",
    "            np.mean([self.w2v_model[w] for w in words if w in self.w2v_model]\n",
    "                    or [np.zeros(self.vocab_size)], axis=0)\n",
    "            for words in X\n",
    "        ])"
   ]
  },
  {
   "cell_type": "code",
   "execution_count": 34,
   "metadata": {},
   "outputs": [
    {
     "name": "stderr",
     "output_type": "stream",
     "text": [
      "c:\\anaconda3\\lib\\site-packages\\sklearn\\cross_validation.py:41: DeprecationWarning: This module was deprecated in version 0.18 in favor of the model_selection module into which all the refactored classes and functions are moved. Also note that the interface of the new CV iterators are different from that of this module. This module will be removed in 0.20.\n",
      "  \"This module will be removed in 0.20.\", DeprecationWarning)\n"
     ]
    }
   ],
   "source": [
    "from sklearn.linear_model import LogisticRegression\n",
    "from sklearn.pipeline import Pipeline\n",
    "from sklearn.cross_validation import train_test_split\n",
    "from sklearn.model_selection import cross_val_score\n",
    "\n",
    "# This pipeline uses our Movie Reviews Word2Vec model\n",
    "movie_lr_w2v = Pipeline([\n",
    "    (\"Movie Review word2vec vectorizer\", MeanEmbeddingVectorizer(movie_model)),\n",
    "    (\"Logistic Regression\", LogisticRegression())])"
   ]
  },
  {
   "cell_type": "code",
   "execution_count": 35,
   "metadata": {},
   "outputs": [],
   "source": [
    "X = [movie_reviews.words(fileid) for fileid in movie_reviews.fileids()]\n",
    "# these are the categories\n",
    "y_categories = [movie_reviews.categories(fileid)[0] for fileid in movie_reviews.fileids()]\n",
    "# this maps the strings to 1 -> positive 0 -> negative (anything else)\n",
    "y = [1 if category == 'pos' else 0 for category in y_categories ]\n",
    "\n",
    "X_train, X_test, y_train, y_test = train_test_split(X, y, test_size=0.2, random_state = 777)"
   ]
  },
  {
   "cell_type": "code",
   "execution_count": null,
   "metadata": {},
   "outputs": [],
   "source": []
  },
  {
   "cell_type": "code",
   "execution_count": 36,
   "metadata": {},
   "outputs": [
    {
     "name": "stderr",
     "output_type": "stream",
     "text": [
      "c:\\anaconda3\\lib\\site-packages\\ipykernel_launcher.py:11: DeprecationWarning: Call to deprecated `__contains__` (Method will be removed in 4.0.0, use self.wv.__contains__() instead).\n",
      "  # This is added back by InteractiveShellApp.init_path()\n",
      "c:\\anaconda3\\lib\\site-packages\\ipykernel_launcher.py:11: DeprecationWarning: Call to deprecated `__getitem__` (Method will be removed in 4.0.0, use self.wv.__getitem__() instead).\n",
      "  # This is added back by InteractiveShellApp.init_path()\n"
     ]
    },
    {
     "data": {
      "text/plain": [
       "Pipeline(memory=None,\n",
       "     steps=[('Movie Review word2vec vectorizer', <__main__.MeanEmbeddingVectorizer object at 0x0000024C98F37FD0>), ('Logistic Regression', LogisticRegression(C=1.0, class_weight=None, dual=False, fit_intercept=True,\n",
       "          intercept_scaling=1, max_iter=100, multi_class='ovr', n_jobs=1,\n",
       "          penalty='l2', random_state=None, solver='liblinear', tol=0.0001,\n",
       "          verbose=0, warm_start=False))])"
      ]
     },
     "execution_count": 36,
     "metadata": {},
     "output_type": "execute_result"
    }
   ],
   "source": [
    "movie_lr_w2v.fit(X_train,y_train)"
   ]
  },
  {
   "cell_type": "code",
   "execution_count": 37,
   "metadata": {},
   "outputs": [
    {
     "name": "stderr",
     "output_type": "stream",
     "text": [
      "c:\\anaconda3\\lib\\site-packages\\ipykernel_launcher.py:11: DeprecationWarning: Call to deprecated `__contains__` (Method will be removed in 4.0.0, use self.wv.__contains__() instead).\n",
      "  # This is added back by InteractiveShellApp.init_path()\n",
      "c:\\anaconda3\\lib\\site-packages\\ipykernel_launcher.py:11: DeprecationWarning: Call to deprecated `__getitem__` (Method will be removed in 4.0.0, use self.wv.__getitem__() instead).\n",
      "  # This is added back by InteractiveShellApp.init_path()\n",
      "c:\\anaconda3\\lib\\site-packages\\ipykernel_launcher.py:11: DeprecationWarning: Call to deprecated `__contains__` (Method will be removed in 4.0.0, use self.wv.__contains__() instead).\n",
      "  # This is added back by InteractiveShellApp.init_path()\n",
      "c:\\anaconda3\\lib\\site-packages\\ipykernel_launcher.py:11: DeprecationWarning: Call to deprecated `__getitem__` (Method will be removed in 4.0.0, use self.wv.__getitem__() instead).\n",
      "  # This is added back by InteractiveShellApp.init_path()\n",
      "c:\\anaconda3\\lib\\site-packages\\ipykernel_launcher.py:11: DeprecationWarning: Call to deprecated `__contains__` (Method will be removed in 4.0.0, use self.wv.__contains__() instead).\n",
      "  # This is added back by InteractiveShellApp.init_path()\n",
      "c:\\anaconda3\\lib\\site-packages\\ipykernel_launcher.py:11: DeprecationWarning: Call to deprecated `__getitem__` (Method will be removed in 4.0.0, use self.wv.__getitem__() instead).\n",
      "  # This is added back by InteractiveShellApp.init_path()\n",
      "c:\\anaconda3\\lib\\site-packages\\ipykernel_launcher.py:11: DeprecationWarning: Call to deprecated `__contains__` (Method will be removed in 4.0.0, use self.wv.__contains__() instead).\n",
      "  # This is added back by InteractiveShellApp.init_path()\n",
      "c:\\anaconda3\\lib\\site-packages\\ipykernel_launcher.py:11: DeprecationWarning: Call to deprecated `__getitem__` (Method will be removed in 4.0.0, use self.wv.__getitem__() instead).\n",
      "  # This is added back by InteractiveShellApp.init_path()\n",
      "c:\\anaconda3\\lib\\site-packages\\ipykernel_launcher.py:11: DeprecationWarning: Call to deprecated `__contains__` (Method will be removed in 4.0.0, use self.wv.__contains__() instead).\n",
      "  # This is added back by InteractiveShellApp.init_path()\n",
      "c:\\anaconda3\\lib\\site-packages\\ipykernel_launcher.py:11: DeprecationWarning: Call to deprecated `__getitem__` (Method will be removed in 4.0.0, use self.wv.__getitem__() instead).\n",
      "  # This is added back by InteractiveShellApp.init_path()\n"
     ]
    },
    {
     "name": "stdout",
     "output_type": "stream",
     "text": [
      "[0.71465  0.739775 0.713575 0.702875 0.7408  ]\n",
      "0.722335\n"
     ]
    }
   ],
   "source": [
    "movie_cv_auc_scores = cross_val_score(movie_lr_w2v, X, y, cv = 5, scoring = 'roc_auc')\n",
    "print(movie_cv_auc_scores)\n",
    "print(np.mean(movie_cv_auc_scores))"
   ]
  },
  {
   "cell_type": "code",
   "execution_count": null,
   "metadata": {},
   "outputs": [],
   "source": []
  },
  {
   "cell_type": "markdown",
   "metadata": {},
   "source": [
    "# Now let's do something slightly different and set up a document-level Doc2Vec model and use this for classification (also using Gensim)"
   ]
  },
  {
   "cell_type": "code",
   "execution_count": 38,
   "metadata": {
    "collapsed": true
   },
   "outputs": [],
   "source": [
    "# PRO TIP : This is a generator class (notice the __iter__() and the yield)\n",
    "# This makes setting up a \"LabeledSentence\" class much easier and it becomes almost essential when training large \n",
    "# models for either Word2Vec or Doc2Vec since some corpora are so large that we cannot keep them in memory while training\n",
    "# the vector model.  Therefore, you can \"iterate\" through files or database rows and only keep batches of them \n",
    "# in memory at a time\n",
    "class TaggedNltkSentence(object):\n",
    "    def __init__(self, nltk_corpus):\n",
    "        self.nltk_corpus = nltk_corpus\n",
    "    def __iter__(self):\n",
    "        sent_idx = 0\n",
    "        for sent in self.nltk_corpus.sents():\n",
    "            sent_idx += 1\n",
    "            # NOTE : These tags are not actually used during training time, but they are used\n",
    "            # to index and potentially query to find similar sentences/paragraphs/documents in GenSim\n",
    "            yield LabeledSentence(words=sent, tags=['SENT_%s' % sent_idx])"
   ]
  },
  {
   "cell_type": "code",
   "execution_count": 39,
   "metadata": {},
   "outputs": [
    {
     "name": "stderr",
     "output_type": "stream",
     "text": [
      "c:\\anaconda3\\lib\\site-packages\\ipykernel_launcher.py:15: DeprecationWarning: Call to deprecated `LabeledSentence` (Class will be removed in 4.0.0, use TaggedDocument instead).\n",
      "  from ipykernel import kernelapp as app\n"
     ]
    },
    {
     "name": "stdout",
     "output_type": "stream",
     "text": [
      "Wall time: 1min 12s\n"
     ]
    }
   ],
   "source": [
    "%time movie_d2v_model = Doc2Vec(TaggedNltkSentence(movie_reviews), size = W2V_DIMENSIONS, min_count = W2V_MIN_COUNT, workers = W2V_WORKERS)"
   ]
  },
  {
   "cell_type": "code",
   "execution_count": 40,
   "metadata": {
    "collapsed": true
   },
   "outputs": [],
   "source": [
    "class Doc2VecVectorizer(object):\n",
    "    def __init__(self, d2v_model):\n",
    "        self.d2v_model = d2v_model\n",
    "\n",
    "    def fit(self, X, y):\n",
    "        return self\n",
    "\n",
    "    def transform(self, X):\n",
    "        # NOTE : infer_vector can take a list of strings (words) of arbitrary lenghth and infer a vector\n",
    "        # given its model parameters\n",
    "        return [self.d2v_model.infer_vector(doc) for doc in X]"
   ]
  },
  {
   "cell_type": "code",
   "execution_count": 41,
   "metadata": {},
   "outputs": [],
   "source": [
    "# And this pipeline uses our Moview Review Doc2Vec model\n",
    "movie_lr_d2v = Pipeline([\n",
    "    (\"Movie Review corpus doc2vec vectorizer\", Doc2VecVectorizer(movie_d2v_model)),\n",
    "    (\"Logistic Regression\", LogisticRegression())])"
   ]
  },
  {
   "cell_type": "code",
   "execution_count": 42,
   "metadata": {},
   "outputs": [
    {
     "data": {
      "text/plain": [
       "Pipeline(memory=None,\n",
       "     steps=[('Movie Review corpus doc2vec vectorizer', <__main__.Doc2VecVectorizer object at 0x0000024C961E8D30>), ('Logistic Regression', LogisticRegression(C=1.0, class_weight=None, dual=False, fit_intercept=True,\n",
       "          intercept_scaling=1, max_iter=100, multi_class='ovr', n_jobs=1,\n",
       "          penalty='l2', random_state=None, solver='liblinear', tol=0.0001,\n",
       "          verbose=0, warm_start=False))])"
      ]
     },
     "execution_count": 42,
     "metadata": {},
     "output_type": "execute_result"
    }
   ],
   "source": [
    "movie_lr_d2v.fit(X_train,y_train)"
   ]
  },
  {
   "cell_type": "code",
   "execution_count": 43,
   "metadata": {},
   "outputs": [
    {
     "name": "stdout",
     "output_type": "stream",
     "text": [
      "[0.763875 0.762275 0.7503   0.76     0.765475]\n",
      "0.7603850000000001\n"
     ]
    }
   ],
   "source": [
    "movie_d2v_cv_roc_scores = cross_val_score(movie_lr_d2v, X, y, cv = 5, scoring = 'roc_auc')\n",
    "print(movie_d2v_cv_roc_scores)\n",
    "print(np.mean(movie_d2v_cv_roc_scores))"
   ]
  },
  {
   "cell_type": "markdown",
   "metadata": {},
   "source": [
    "# So why do we get much better results using a Doc2Vec model as opposed to the mean of the word vectors?\n",
    "## Proposal : Word2Vec results in vectors which are constant for a word regardless of context\n",
    "## Meanwhile, Doc2Vec method of infer_vector() uses the document/paragraph/sentence as context\n",
    "## So while \"great\" always has the same vector, context and order matters for the document model"
   ]
  },
  {
   "cell_type": "code",
   "execution_count": 44,
   "metadata": {},
   "outputs": [
    {
     "name": "stdout",
     "output_type": "stream",
     "text": [
      "[-0.4093997  -0.9610595   1.9417773   0.732508   -0.41736344  1.6001061\n",
      "  0.7938619   0.23917967 -0.9538066  -0.01713716  0.38624635 -0.23414482\n",
      " -1.2982923   1.0475136   0.7861225   1.7990884  -0.28001323  0.13424715\n",
      " -0.46327606  0.27526507  1.0440618   0.33341312 -1.6199517  -0.46668375\n",
      " -0.8625597  -0.5214929  -0.05072301  0.9508796   0.47395065  0.83931965\n",
      "  2.1151168  -0.6030852  -0.92068523  0.0264638  -1.1145192  -0.3809727\n",
      " -2.0493999   2.1832123  -2.3192048  -0.00806188  0.07166918  0.6766725\n",
      " -1.324945    1.1634115  -0.5290491  -0.40289488  1.1145669   0.63200986\n",
      " -0.83634126 -1.4745959 ]\n"
     ]
    },
    {
     "name": "stderr",
     "output_type": "stream",
     "text": [
      "c:\\anaconda3\\lib\\site-packages\\ipykernel_launcher.py:1: DeprecationWarning: Call to deprecated `__getitem__` (Method will be removed in 4.0.0, use self.wv.__getitem__() instead).\n",
      "  \"\"\"Entry point for launching an IPython kernel.\n"
     ]
    }
   ],
   "source": [
    "great_word_vector = movie_model['great']\n",
    "print(great_word_vector)"
   ]
  },
  {
   "cell_type": "code",
   "execution_count": 47,
   "metadata": {},
   "outputs": [
    {
     "name": "stdout",
     "output_type": "stream",
     "text": [
      "1 compared to 2 : [[0.5943769]]\n",
      "2 compared to 3 : [[0.50202376]]\n",
      "1 compared to 3 : [[0.41764268]]\n"
     ]
    }
   ],
   "source": [
    "# In this example, the average embeddings vectors for sentence_1 and sentence_2 would be the same\n",
    "# However, doc2vec sees them as different.  This will allow context to be handled differently and a classifier\n",
    "# will be able to learn about these differences\n",
    "\n",
    "sentence_1 = 'great movie to see'\n",
    "sentence_2 = 'to see great movie'\n",
    "sentence_3 = 'OK movie to view'\n",
    "\n",
    "sentence_1_vec = movie_d2v_model.infer_vector(nltk.tokenize.word_tokenize(sentence_1))\n",
    "sentence_2_vec = movie_d2v_model.infer_vector(nltk.tokenize.word_tokenize(sentence_2))\n",
    "sentence_3_vec = movie_d2v_model.infer_vector(nltk.tokenize.word_tokenize(sentence_3))\n",
    "\n",
    "# also shape these to be single vectors\n",
    "sentence_1_vec = sentence_1_vec.reshape(1, -1)\n",
    "sentence_2_vec = sentence_2_vec.reshape(1, -1)\n",
    "sentence_3_vec = sentence_3_vec.reshape(1, -1)\n",
    "\n",
    "print('1 compared to 2 : ' + str(sklearn.metrics.pairwise.cosine_similarity(sentence_1_vec, sentence_2_vec)))\n",
    "print('2 compared to 3 : ' + str(sklearn.metrics.pairwise.cosine_similarity(sentence_2_vec, sentence_3_vec)))\n",
    "print('1 compared to 3 : ' + str(sklearn.metrics.pairwise.cosine_similarity(sentence_1_vec, sentence_3_vec)))"
   ]
  },
  {
   "cell_type": "code",
   "execution_count": null,
   "metadata": {
    "collapsed": true
   },
   "outputs": [],
   "source": []
  }
 ],
 "metadata": {
  "anaconda-cloud": {},
  "kernelspec": {
   "display_name": "Python 3",
   "language": "python",
   "name": "python3"
  },
  "language_info": {
   "codemirror_mode": {
    "name": "ipython",
    "version": 3
   },
   "file_extension": ".py",
   "mimetype": "text/x-python",
   "name": "python",
   "nbconvert_exporter": "python",
   "pygments_lexer": "ipython3",
   "version": "3.6.1"
  }
 },
 "nbformat": 4,
 "nbformat_minor": 1
}
